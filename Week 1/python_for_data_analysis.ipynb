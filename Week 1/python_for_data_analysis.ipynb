{
 "cells": [
  {
   "cell_type": "code",
   "execution_count": 142,
   "id": "0e882365-ff50-45d5-9580-7f1fe6b806d0",
   "metadata": {},
   "outputs": [],
   "source": [
    "# imports\n",
    "import pandas as pd\n",
    "import numpy as np\n",
    "import matplotlib.pyplot as plt\n",
    "from sklearn.datasets import load_iris\n",
    "%matplotlib inline"
   ]
  },
  {
   "cell_type": "code",
   "execution_count": 143,
   "id": "002f199c-3b2e-49ca-9ec1-a2712602a94c",
   "metadata": {},
   "outputs": [],
   "source": [
    "iris = load_iris()"
   ]
  },
  {
   "cell_type": "code",
   "execution_count": 144,
   "id": "3db62afd-5854-4e47-aa05-9a33bce12ee5",
   "metadata": {},
   "outputs": [
    {
     "data": {
      "text/plain": [
       "dict_keys(['data', 'target', 'frame', 'target_names', 'DESCR', 'feature_names', 'filename', 'data_module'])"
      ]
     },
     "execution_count": 144,
     "metadata": {},
     "output_type": "execute_result"
    }
   ],
   "source": [
    "iris.keys()"
   ]
  },
  {
   "cell_type": "code",
   "execution_count": 145,
   "id": "d9754def-b5e6-4264-bfc4-19600924cab3",
   "metadata": {},
   "outputs": [
    {
     "data": {
      "text/plain": [
       "(150, 4)"
      ]
     },
     "execution_count": 145,
     "metadata": {},
     "output_type": "execute_result"
    }
   ],
   "source": [
    "iris['data'].shape"
   ]
  },
  {
   "cell_type": "code",
   "execution_count": 146,
   "id": "7249c654-233b-448b-b0c1-2dae02cd7e86",
   "metadata": {},
   "outputs": [
    {
     "data": {
      "text/plain": [
       "dtype('float64')"
      ]
     },
     "execution_count": 146,
     "metadata": {},
     "output_type": "execute_result"
    }
   ],
   "source": [
    "iris['data'].dtype"
   ]
  },
  {
   "cell_type": "code",
   "execution_count": 147,
   "id": "40b82461-4416-4ab8-b309-2a58ebfa7995",
   "metadata": {},
   "outputs": [],
   "source": [
    "data = iris['data']\n",
    "feature_names = iris['feature_names']"
   ]
  },
  {
   "cell_type": "code",
   "execution_count": 148,
   "id": "5dc89e2e-1686-4642-bc81-2e29cd44ce06",
   "metadata": {},
   "outputs": [],
   "source": [
    "df = pd.DataFrame(data=data, columns=feature_names)"
   ]
  },
  {
   "cell_type": "code",
   "execution_count": 149,
   "id": "9db5b949-4e07-4ce9-b5e5-d8a01e966dcf",
   "metadata": {},
   "outputs": [
    {
     "data": {
      "text/html": [
       "<div>\n",
       "<style scoped>\n",
       "    .dataframe tbody tr th:only-of-type {\n",
       "        vertical-align: middle;\n",
       "    }\n",
       "\n",
       "    .dataframe tbody tr th {\n",
       "        vertical-align: top;\n",
       "    }\n",
       "\n",
       "    .dataframe thead th {\n",
       "        text-align: right;\n",
       "    }\n",
       "</style>\n",
       "<table border=\"1\" class=\"dataframe\">\n",
       "  <thead>\n",
       "    <tr style=\"text-align: right;\">\n",
       "      <th></th>\n",
       "      <th>sepal length (cm)</th>\n",
       "      <th>sepal width (cm)</th>\n",
       "      <th>petal length (cm)</th>\n",
       "      <th>petal width (cm)</th>\n",
       "    </tr>\n",
       "  </thead>\n",
       "  <tbody>\n",
       "    <tr>\n",
       "      <th>count</th>\n",
       "      <td>150.000000</td>\n",
       "      <td>150.000000</td>\n",
       "      <td>150.000000</td>\n",
       "      <td>150.000000</td>\n",
       "    </tr>\n",
       "    <tr>\n",
       "      <th>mean</th>\n",
       "      <td>5.843333</td>\n",
       "      <td>3.057333</td>\n",
       "      <td>3.758000</td>\n",
       "      <td>1.199333</td>\n",
       "    </tr>\n",
       "    <tr>\n",
       "      <th>std</th>\n",
       "      <td>0.828066</td>\n",
       "      <td>0.435866</td>\n",
       "      <td>1.765298</td>\n",
       "      <td>0.762238</td>\n",
       "    </tr>\n",
       "    <tr>\n",
       "      <th>min</th>\n",
       "      <td>4.300000</td>\n",
       "      <td>2.000000</td>\n",
       "      <td>1.000000</td>\n",
       "      <td>0.100000</td>\n",
       "    </tr>\n",
       "    <tr>\n",
       "      <th>25%</th>\n",
       "      <td>5.100000</td>\n",
       "      <td>2.800000</td>\n",
       "      <td>1.600000</td>\n",
       "      <td>0.300000</td>\n",
       "    </tr>\n",
       "    <tr>\n",
       "      <th>50%</th>\n",
       "      <td>5.800000</td>\n",
       "      <td>3.000000</td>\n",
       "      <td>4.350000</td>\n",
       "      <td>1.300000</td>\n",
       "    </tr>\n",
       "    <tr>\n",
       "      <th>75%</th>\n",
       "      <td>6.400000</td>\n",
       "      <td>3.300000</td>\n",
       "      <td>5.100000</td>\n",
       "      <td>1.800000</td>\n",
       "    </tr>\n",
       "    <tr>\n",
       "      <th>max</th>\n",
       "      <td>7.900000</td>\n",
       "      <td>4.400000</td>\n",
       "      <td>6.900000</td>\n",
       "      <td>2.500000</td>\n",
       "    </tr>\n",
       "  </tbody>\n",
       "</table>\n",
       "</div>"
      ],
      "text/plain": [
       "       sepal length (cm)  sepal width (cm)  petal length (cm)  \\\n",
       "count         150.000000        150.000000         150.000000   \n",
       "mean            5.843333          3.057333           3.758000   \n",
       "std             0.828066          0.435866           1.765298   \n",
       "min             4.300000          2.000000           1.000000   \n",
       "25%             5.100000          2.800000           1.600000   \n",
       "50%             5.800000          3.000000           4.350000   \n",
       "75%             6.400000          3.300000           5.100000   \n",
       "max             7.900000          4.400000           6.900000   \n",
       "\n",
       "       petal width (cm)  \n",
       "count        150.000000  \n",
       "mean           1.199333  \n",
       "std            0.762238  \n",
       "min            0.100000  \n",
       "25%            0.300000  \n",
       "50%            1.300000  \n",
       "75%            1.800000  \n",
       "max            2.500000  "
      ]
     },
     "execution_count": 149,
     "metadata": {},
     "output_type": "execute_result"
    }
   ],
   "source": [
    "df.describe()"
   ]
  },
  {
   "cell_type": "code",
   "execution_count": 150,
   "id": "dd75198e-db64-4359-9659-99fb2d47641e",
   "metadata": {},
   "outputs": [],
   "source": [
    "df_subset = df[:50]"
   ]
  },
  {
   "cell_type": "code",
   "execution_count": 153,
   "id": "7b080a77-ec67-4b70-a427-27fe8c799c79",
   "metadata": {},
   "outputs": [],
   "source": [
    "low = df['sepal length (cm)'].mean() - (df['sepal length (cm)'].std() * 2.5)\n",
    "high = df['sepal length (cm)'].mean() + (df['sepal length (cm)'].std() * 2.5)\n",
    "\n",
    "i = 0\n",
    "while i<len(df):\n",
    "    if df['sepal length (cm)'][i]<low or df['sepal length (cm)'][i]>high:\n",
    "        print('Extreme sepal length value present')\n",
    "    i = i+1"
   ]
  },
  {
   "cell_type": "code",
   "execution_count": 160,
   "id": "7ccb013b-43f0-425e-a348-b0cf4769a904",
   "metadata": {},
   "outputs": [],
   "source": [
    "def find_extreme_values(df, column):\n",
    "    low = df[column].mean() - (df[column].std() * 2.5)\n",
    "    high = df[column].mean() + (df[column].std() * 2.5)\n",
    "\n",
    "    i = 0\n",
    "    while i<len(df):\n",
    "        if df['sepal length (cm)'][i]<low or df['sepal length (cm)'][i]>high:\n",
    "            return('Extreme sepal length value present')\n",
    "        i = i+1"
   ]
  },
  {
   "cell_type": "code",
   "execution_count": 161,
   "id": "42cece3e-fdf4-4bd8-8bcb-ed118988d70d",
   "metadata": {},
   "outputs": [
    {
     "data": {
      "text/plain": [
       "'Extreme sepal length value present'"
      ]
     },
     "execution_count": 161,
     "metadata": {},
     "output_type": "execute_result"
    }
   ],
   "source": [
    "find_extreme_values(df, 'sepal width (cm)')"
   ]
  },
  {
   "cell_type": "code",
   "execution_count": 168,
   "id": "c6673cff-2192-4687-b8bc-3fc02795fbed",
   "metadata": {},
   "outputs": [
    {
     "data": {
      "text/plain": [
       "Text(0, 0.5, 'Measurements (cm)')"
      ]
     },
     "execution_count": 168,
     "metadata": {},
     "output_type": "execute_result"
    },
    {
     "data": {
      "image/png": "[encoded data removed]",
      "text/plain": [
       "<Figure size 640x480 with 1 Axes>"
      ]
     },
     "metadata": {},
     "output_type": "display_data"
    }
   ],
   "source": [
    "fig, ax1 = plt.subplots()\n",
    "\n",
    "ax = df.boxplot()\n",
    "ax.set_title('Boxplot distribution of features')\n",
    "ax.set_xlabel('Features')\n",
    "ax.set_ylabel('Measurements (cm)')"
   ]
  },
  {
   "cell_type": "code",
   "execution_count": 170,
   "id": "5a534d4f-078c-4caa-a3cc-4331d8552121",
   "metadata": {},
   "outputs": [
    {
     "data": {
      "text/plain": [
       "<Figure size 640x480 with 0 Axes>"
      ]
     },
     "metadata": {},
     "output_type": "display_data"
    }
   ],
   "source": [
    "np.savetxt('dataframe.csv', df)\n",
    "plt.savefig('plot.png')"
   ]
  },
  {
   "cell_type": "code",
   "execution_count": 171,
   "id": "fc37dc77-c6f9-46dc-b0ce-101e6bb3459d",
   "metadata": {},
   "outputs": [
    {
     "name": "stdout",
     "output_type": "stream",
     "text": [
      "-rw-rw-r-- 1 yhashim yhashim 15000 May 26 22:03 dataframe.csv\n"
     ]
    }
   ],
   "source": [
    "! ls -lF dataframe.csv"
   ]
  },
  {
   "cell_type": "code",
   "execution_count": 172,
   "id": "cc759ea8-328c-44b2-af5c-537457073145",
   "metadata": {},
   "outputs": [
    {
     "name": "stdout",
     "output_type": "stream",
     "text": [
      "-rw-rw-r-- 1 yhashim yhashim 2396 May 26 22:03 plot.png\n"
     ]
    }
   ],
   "source": [
    "! ls -lF plot.png"
   ]
  }
 ],
 "metadata": {
  "kernelspec": {
   "display_name": "Python 3 (ipykernel)",
   "language": "python",
   "name": "python3"
  },
  "language_info": {
   "codemirror_mode": {
    "name": "ipython",
    "version": 3
   },
   "file_extension": ".py",
   "mimetype": "text/x-python",
   "name": "python",
   "nbconvert_exporter": "python",
   "pygments_lexer": "ipython3",
   "version": "3.12.3"
  }
 },
 "nbformat": 4,
 "nbformat_minor": 5
}
