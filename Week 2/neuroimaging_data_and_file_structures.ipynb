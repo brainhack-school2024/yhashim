{
 "cells": [
  {
   "cell_type": "markdown",
   "id": "332ae315-ea17-4619-9b85-911d4513811d",
   "metadata": {},
   "source": [
    "# Neuroimaging data and file structures"
   ]
  },
  {
   "cell_type": "code",
   "execution_count": 1,
   "id": "b7a307c6-433c-4274-a52b-c5b02aadd25b",
   "metadata": {},
   "outputs": [],
   "source": [
    "import numpy as np\n",
    "import nibabel as nib\n",
    "from nilearn.datasets import fetch_atlas_difumo\n",
    "from nilearn import plotting"
   ]
  },
  {
   "cell_type": "markdown",
   "id": "86bc49ba-a656-43a0-ba82-dc14d7c97868",
   "metadata": {},
   "source": [
    "## 1-Fetch the 64 Parcellation Image, Extract, Binarize, Save as New NIfTI"
   ]
  },
  {
   "cell_type": "code",
   "execution_count": 2,
   "id": "6de54288-82ed-42e7-abc9-dc5b28c896ed",
   "metadata": {},
   "outputs": [
    {
     "name": "stdout",
     "output_type": "stream",
     "text": [
      "Atlas shape: (104, 123, 104, 64)\n",
      "Sum of binarized data: 3412\n"
     ]
    }
   ],
   "source": [
    "# Fetch the atlas with 64 regions\n",
    "atlas = fetch_atlas_difumo(dimension=64)\n",
    "atlas_filename = atlas['maps']\n",
    "\n",
    "# Load the atlas image\n",
    "atlas_img = nib.load(atlas_filename)\n",
    "atlas_data = atlas_img.get_fdata()\n",
    "\n",
    "# Verify the atlas data\n",
    "print(\"Atlas shape:\", atlas_data.shape)\n",
    "\n",
    "# Extract the 16th volume (15th index in 0-indexed Python)\n",
    "region_16_data = atlas_data[:, :, :, 15]\n",
    "\n",
    "# Binarize the data by setting a threshold, for example, anything greater than zero\n",
    "binary_region_16_data = (region_16_data > 0).astype(np.int16)\n",
    "\n",
    "# Check if the binarized data is not empty\n",
    "print(\"Sum of binarized data:\", np.sum(binary_region_16_data))\n",
    "if np.sum(binary_region_16_data) == 0:\n",
    "    raise ValueError(\"The binarized data is empty, indicating no non-zero values were found.\")\n",
    "\n",
    "# Save the binarized data as a new NIfTI image\n",
    "binary_region_16_img = nib.Nifti1Image(binary_region_16_data, affine=atlas_img.affine)\n",
    "nib.save(binary_region_16_img, 'binary_region_16.nii.gz')"
   ]
  },
  {
   "cell_type": "markdown",
   "id": "fa4ed11f-6f52-4eb7-8fac-7d3fd2bb4ce2",
   "metadata": {},
   "source": [
    "## 2-View the New NIfTI File in Three Different Views"
   ]
  },
  {
   "cell_type": "code",
   "execution_count": 3,
   "id": "9d1d92c8-b53f-47d0-85bd-9949dd7205cb",
   "metadata": {},
   "outputs": [
    {
     "name": "stdout",
     "output_type": "stream",
     "text": [
      "Binarized image shape: (104, 123, 104)\n"
     ]
    },
    {
     "data": {
      "image/png": "[encoded data removed]",
      "text/plain": [
       "<Figure size 660x350 with 4 Axes>"
      ]
     },
     "metadata": {},
     "output_type": "display_data"
    }
   ],
   "source": [
    "# Load the binarized image\n",
    "binarized_img = nib.load('binary_region_16.nii.gz')\n",
    "\n",
    "# Verify the dimensionality of the image\n",
    "print(\"Binarized image shape:\", binarized_img.shape)\n",
    "\n",
    "# Plot the image in three views\n",
    "plotting.plot_anat(binarized_img, title=\"Binarized Region 16\", display_mode='ortho')\n",
    "plotting.show()"
   ]
  },
  {
   "cell_type": "markdown",
   "id": "29f8f212-f307-4de1-89b7-c532d0a8692c",
   "metadata": {},
   "source": [
    "## 3-Conceptual Differences Between Array and Array Proxy Images"
   ]
  },
  {
   "cell_type": "markdown",
   "id": "6ec49cd0-b276-4aaa-84bd-f8b9257f0716",
   "metadata": {},
   "source": [
    "Array images and array proxy images are two methods of handling neuroimaging data in NiBabel.\n",
    "\n",
    "- **Array Images**: These images load the entire data array into memory. This provides immediate access to all the data, which is useful for operations requiring the full dataset. However, it can be memory-intensive and impractical for very large datasets, especially if system memory is limited.\n",
    "\n",
    "- **Array Proxy Images**: These images use a proxy object to reference the data, which is not loaded into memory immediately. Instead, data is read from the disk as needed. This approach is memory-efficient and beneficial for handling large datasets, but accessing the data can be slower due to disk read operations.\n",
    "\n",
    "In summary, array images are suitable when memory is abundant and quick data access is needed, while array proxy images are ideal for efficiently managing large datasets with limited memory resources."
   ]
  }
 ],
 "metadata": {
  "kernelspec": {
   "display_name": "Python 3 (ipykernel)",
   "language": "python",
   "name": "python3"
  },
  "language_info": {
   "codemirror_mode": {
    "name": "ipython",
    "version": 3
   },
   "file_extension": ".py",
   "mimetype": "text/x-python",
   "name": "python",
   "nbconvert_exporter": "python",
   "pygments_lexer": "ipython3",
   "version": "3.12.2"
  }
 },
 "nbformat": 4,
 "nbformat_minor": 5
}
