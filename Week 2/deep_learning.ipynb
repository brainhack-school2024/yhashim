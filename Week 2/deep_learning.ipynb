{
 "cells": [
  {
   "cell_type": "markdown",
   "id": "15c93837-fe03-4af0-978b-761e4620b759",
   "metadata": {},
   "source": [
    "# Deep learning introduction"
   ]
  },
  {
   "cell_type": "markdown",
   "id": "2615f6cf-808f-414e-8812-a02c5dafc140",
   "metadata": {},
   "source": [
    "## 1-Give an example of a research question that you could use deep learning to solve.\n",
    "Recognizing images (vision) using deep learning.\n",
    "Processing language using deep learning."
   ]
  },
  {
   "cell_type": "markdown",
   "id": "c3e436cc-6848-4ef8-9737-78a6eee60da3",
   "metadata": {},
   "source": [
    "## 2-How would deep learning provide an advantage for solving the problem?\n",
    "Deep learning excels at tasks humans perform and increases in accuracy with more parameters. It is appropriate in tasks that involve hierarchy (for example, in vision problems the environment is made of objects which have parts, in the language problems sentences are made of words which are sequences of letters)."
   ]
  },
  {
   "cell_type": "markdown",
   "id": "08a223e8-1a76-41ae-bda9-ea8614a6d877",
   "metadata": {},
   "source": [
    "## 3-Give an example of a research question for which deep learning would not be appropriate.\n",
    "Characterizing biomarkers using neural data. "
   ]
  },
  {
   "cell_type": "markdown",
   "id": "d8989d19-b32f-41fb-af96-30f502d272e1",
   "metadata": {},
   "source": [
    "## 4-What would be a disadvantage of deep learning compared to another method?\n",
    "If a problem lacks a hierarchical solution and can be effectively addressed with simpler methods, using deep learning might not be optimal. Deep learning works best in hierarchical problems, leveraging large datasets and complex models. For problems where simpler solutions are sufficient, its extensive parameterization and complexity could lead to unnecessary computational burden."
   ]
  }
 ],
 "metadata": {
  "kernelspec": {
   "display_name": "Python 3 (ipykernel)",
   "language": "python",
   "name": "python3"
  },
  "language_info": {
   "codemirror_mode": {
    "name": "ipython",
    "version": 3
   },
   "file_extension": ".py",
   "mimetype": "text/x-python",
   "name": "python",
   "nbconvert_exporter": "python",
   "pygments_lexer": "ipython3",
   "version": "3.12.2"
  }
 },
 "nbformat": 4,
 "nbformat_minor": 5
}
